{
 "cells": [
  {
   "cell_type": "code",
   "execution_count": 6,
   "metadata": {},
   "outputs": [
    {
     "name": "stdout",
     "output_type": "stream",
     "text": [
      "[[0.31083925 0.09340963 0.53186962 0.26155738]\n",
      " [0.76582463 0.80392218 0.47390679 0.19165725]\n",
      " [0.03889237 0.60072197 0.44717992 0.70971212]\n",
      " [0.26393298 0.70224597 0.17058319 0.10062062]\n",
      " [0.46714819 0.45217153 0.42180736 0.60141231]\n",
      " [0.424178   0.50053713 0.59106806 0.2270412 ]]\n",
      "\n",
      "[[1.66666667 1.66666667 1.66666667 1.66666667]\n",
      " [0.         0.         1.66666667 1.66666667]\n",
      " [1.66666667 0.         1.66666667 0.        ]\n",
      " [1.66666667 0.         1.66666667 1.66666667]\n",
      " [1.66666667 1.66666667 1.66666667 0.        ]\n",
      " [1.66666667 1.66666667 1.66666667 1.66666667]]\n"
     ]
    }
   ],
   "source": [
    "import numpy as np\n",
    "\n",
    "x=[[1,2, 3,4],[1,2, 3,4],[1,2, 3,4],[1,2, 3,4],[1,2, 3,4],[1,2, 3,4]]\n",
    "\n",
    "p=0.6\n",
    "\n",
    "a=np.random.rand(6,4)\n",
    "mask = (a < p) / p\n",
    "out = x * mask\n",
    "\n",
    "print(a)\n",
    "print(\"\")\n",
    "\n",
    "print(mask)\n"
   ]
  }
 ],
 "metadata": {
  "kernelspec": {
   "display_name": "Python 3",
   "language": "python",
   "name": "python3"
  },
  "language_info": {
   "codemirror_mode": {
    "name": "ipython",
    "version": 3
   },
   "file_extension": ".py",
   "mimetype": "text/x-python",
   "name": "python",
   "nbconvert_exporter": "python",
   "pygments_lexer": "ipython3",
   "version": "3.6.8"
  }
 },
 "nbformat": 4,
 "nbformat_minor": 2
}
